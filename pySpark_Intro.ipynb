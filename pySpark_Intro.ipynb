{
 "cells": [
  {
   "cell_type": "markdown",
   "metadata": {},
   "source": [
    "## Importing Required Libraries"
   ]
  },
  {
   "cell_type": "code",
   "execution_count": 2,
   "metadata": {},
   "outputs": [],
   "source": [
    "import pyspark\n",
    "from pyspark.sql import SparkSession"
   ]
  },
  {
   "cell_type": "markdown",
   "metadata": {},
   "source": [
    "## Initializing a spark session"
   ]
  },
  {
   "cell_type": "code",
   "execution_count": 3,
   "metadata": {},
   "outputs": [],
   "source": [
    "spark = SparkSession.builder.appName('Testing').getOrCreate()"
   ]
  },
  {
   "cell_type": "code",
   "execution_count": 4,
   "metadata": {},
   "outputs": [
    {
     "data": {
      "text/html": [
       "\n",
       "            <div>\n",
       "                <p><b>SparkSession - in-memory</b></p>\n",
       "                \n",
       "        <div>\n",
       "            <p><b>SparkContext</b></p>\n",
       "\n",
       "            <p><a href=\"http://192.168.1.220:4040\">Spark UI</a></p>\n",
       "\n",
       "            <dl>\n",
       "              <dt>Version</dt>\n",
       "                <dd><code>v3.5.0</code></dd>\n",
       "              <dt>Master</dt>\n",
       "                <dd><code>local[*]</code></dd>\n",
       "              <dt>AppName</dt>\n",
       "                <dd><code>Testing</code></dd>\n",
       "            </dl>\n",
       "        </div>\n",
       "        \n",
       "            </div>\n",
       "        "
      ],
      "text/plain": [
       "<pyspark.sql.session.SparkSession at 0x2987f97ee30>"
      ]
     },
     "execution_count": 4,
     "metadata": {},
     "output_type": "execute_result"
    }
   ],
   "source": [
    "spark"
   ]
  },
  {
   "cell_type": "markdown",
   "metadata": {},
   "source": [
    "### Reading data from a csv file"
   ]
  },
  {
   "cell_type": "code",
   "execution_count": 17,
   "metadata": {},
   "outputs": [],
   "source": [
    "df = spark.read.option('header', 'true').csv('airline-safety.csv', inferSchema = True)\n",
    "# or\n",
    "# df = spark.read.csv('airline-safety.csv', header = True, inferSchema = True)\n",
    "\n",
    "# option('header', 'true')  -  To enable the first row as the column name\n",
    "# inferSchema = True)       -  If false, every data will be taken as string"
   ]
  },
  {
   "cell_type": "code",
   "execution_count": 18,
   "metadata": {},
   "outputs": [
    {
     "data": {
      "text/plain": [
       "pyspark.sql.dataframe.DataFrame"
      ]
     },
     "execution_count": 18,
     "metadata": {},
     "output_type": "execute_result"
    }
   ],
   "source": [
    "type(df)"
   ]
  },
  {
   "cell_type": "code",
   "execution_count": 19,
   "metadata": {},
   "outputs": [
    {
     "name": "stdout",
     "output_type": "stream",
     "text": [
      "+--------------------+----------------------+---------------+---------------------+----------------+---------------+---------------------+----------------+\n",
      "|             airline|avail_seat_km_per_week|incidents_85_99|fatal_accidents_85_99|fatalities_85_99|incidents_00_14|fatal_accidents_00_14|fatalities_00_14|\n",
      "+--------------------+----------------------+---------------+---------------------+----------------+---------------+---------------------+----------------+\n",
      "|          Aer Lingus|             320906734|              2|                    0|               0|              0|                    0|               0|\n",
      "|           Aeroflot*|            1197672318|             76|                   14|             128|              6|                    1|              88|\n",
      "|Aerolineas Argent...|             385803648|              6|                    0|               0|              1|                    0|               0|\n",
      "|         Aeromexico*|             596871813|              3|                    1|              64|              5|                    0|               0|\n",
      "|          Air Canada|            1865253802|              2|                    0|               0|              2|                    0|               0|\n",
      "+--------------------+----------------------+---------------+---------------------+----------------+---------------+---------------------+----------------+\n",
      "only showing top 5 rows\n",
      "\n"
     ]
    }
   ],
   "source": [
    "df.show(5)"
   ]
  },
  {
   "cell_type": "markdown",
   "metadata": {},
   "source": [
    "### Check the Schema of the dataframe"
   ]
  },
  {
   "cell_type": "code",
   "execution_count": 20,
   "metadata": {},
   "outputs": [
    {
     "name": "stdout",
     "output_type": "stream",
     "text": [
      "root\n",
      " |-- airline: string (nullable = true)\n",
      " |-- avail_seat_km_per_week: long (nullable = true)\n",
      " |-- incidents_85_99: integer (nullable = true)\n",
      " |-- fatal_accidents_85_99: integer (nullable = true)\n",
      " |-- fatalities_85_99: integer (nullable = true)\n",
      " |-- incidents_00_14: integer (nullable = true)\n",
      " |-- fatal_accidents_00_14: integer (nullable = true)\n",
      " |-- fatalities_00_14: integer (nullable = true)\n",
      "\n"
     ]
    }
   ],
   "source": [
    "df.printSchema()"
   ]
  },
  {
   "cell_type": "markdown",
   "metadata": {},
   "source": [
    "### Playing with columns and rows"
   ]
  },
  {
   "cell_type": "code",
   "execution_count": 25,
   "metadata": {},
   "outputs": [
    {
     "name": "stdout",
     "output_type": "stream",
     "text": [
      "+--------------------+---------------------+\n",
      "|             airline|fatal_accidents_85_99|\n",
      "+--------------------+---------------------+\n",
      "|          Aer Lingus|                    0|\n",
      "|           Aeroflot*|                   14|\n",
      "|Aerolineas Argent...|                    0|\n",
      "|         Aeromexico*|                    1|\n",
      "|          Air Canada|                    0|\n",
      "+--------------------+---------------------+\n",
      "only showing top 5 rows\n",
      "\n"
     ]
    },
    {
     "data": {
      "text/plain": [
       "pyspark.sql.dataframe.DataFrame"
      ]
     },
     "execution_count": 25,
     "metadata": {},
     "output_type": "execute_result"
    }
   ],
   "source": [
    "# Select or extract specific columns into a separate dataframe\n",
    "\n",
    "df.select(['airline', 'fatal_accidents_85_99']).show(5)\n",
    "\n",
    "type(df.select(['airline', 'fatal_accidents_85_99']))"
   ]
  },
  {
   "cell_type": "code",
   "execution_count": 34,
   "metadata": {},
   "outputs": [
    {
     "data": {
      "text/plain": [
       "Column<'airline'>"
      ]
     },
     "execution_count": 34,
     "metadata": {},
     "output_type": "execute_result"
    }
   ],
   "source": [
    "df['airline']"
   ]
  },
  {
   "cell_type": "code",
   "execution_count": 32,
   "metadata": {},
   "outputs": [
    {
     "data": {
      "text/plain": [
       "[('airline', 'string'),\n",
       " ('avail_seat_km_per_week', 'bigint'),\n",
       " ('incidents_85_99', 'int'),\n",
       " ('fatal_accidents_85_99', 'int'),\n",
       " ('fatalities_85_99', 'int'),\n",
       " ('incidents_00_14', 'int'),\n",
       " ('fatal_accidents_00_14', 'int'),\n",
       " ('fatalities_00_14', 'int')]"
      ]
     },
     "execution_count": 32,
     "metadata": {},
     "output_type": "execute_result"
    }
   ],
   "source": [
    "# Check the datatypes of the columns\n",
    "\n",
    "df.dtypes"
   ]
  },
  {
   "cell_type": "code",
   "execution_count": 37,
   "metadata": {},
   "outputs": [
    {
     "name": "stdout",
     "output_type": "stream",
     "text": [
      "+-------+---------------+----------------------+------------------+---------------------+------------------+------------------+---------------------+------------------+\n",
      "|summary|        airline|avail_seat_km_per_week|   incidents_85_99|fatal_accidents_85_99|  fatalities_85_99|   incidents_00_14|fatal_accidents_00_14|  fatalities_00_14|\n",
      "+-------+---------------+----------------------+------------------+---------------------+------------------+------------------+---------------------+------------------+\n",
      "|  count|             56|                    56|                56|                   56|                56|                56|                   56|                56|\n",
      "|   mean|           NULL|   1.384621304732143E9| 7.178571428571429|   2.1785714285714284|112.41071428571429|             4.125|   0.6607142857142857|55.517857142857146|\n",
      "| stddev|           NULL|  1.4653168949166625E9|11.035656495456639|    2.861068731385928|146.69111354205404|4.5449772476678225|   0.8586836800228957| 111.3327512168207|\n",
      "|    min|     Aer Lingus|             259373346|                 0|                    0|                 0|                 0|                    0|                 0|\n",
      "|    max|Xiamen Airlines|            7139291291|                76|                   14|               535|                24|                    3|               537|\n",
      "+-------+---------------+----------------------+------------------+---------------------+------------------+------------------+---------------------+------------------+\n",
      "\n"
     ]
    }
   ],
   "source": [
    "# Similar to pandas describe\n",
    "\n",
    "df.describe().show()"
   ]
  },
  {
   "cell_type": "code",
   "execution_count": null,
   "metadata": {},
   "outputs": [],
   "source": []
  }
 ],
 "metadata": {
  "kernelspec": {
   "display_name": "Python 3",
   "language": "python",
   "name": "python3"
  },
  "language_info": {
   "codemirror_mode": {
    "name": "ipython",
    "version": 3
   },
   "file_extension": ".py",
   "mimetype": "text/x-python",
   "name": "python",
   "nbconvert_exporter": "python",
   "pygments_lexer": "ipython3",
   "version": "3.10.6"
  }
 },
 "nbformat": 4,
 "nbformat_minor": 2
}
