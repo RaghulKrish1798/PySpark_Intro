{
 "cells": [
  {
   "cell_type": "markdown",
   "metadata": {},
   "source": [
    "## Importing Required Libraries"
   ]
  },
  {
   "cell_type": "code",
   "execution_count": 3,
   "metadata": {},
   "outputs": [],
   "source": [
    "import pyspark\n",
    "from pyspark.sql import SparkSession\n",
    "from pyspark.sql.functions import lit"
   ]
  },
  {
   "cell_type": "markdown",
   "metadata": {},
   "source": [
    "## Initializing a spark session"
   ]
  },
  {
   "cell_type": "code",
   "execution_count": 4,
   "metadata": {},
   "outputs": [],
   "source": [
    "spark = SparkSession.builder.appName('Testing').getOrCreate()"
   ]
  },
  {
   "cell_type": "code",
   "execution_count": 5,
   "metadata": {},
   "outputs": [
    {
     "data": {
      "text/html": [
       "\n",
       "            <div>\n",
       "                <p><b>SparkSession - in-memory</b></p>\n",
       "                \n",
       "        <div>\n",
       "            <p><b>SparkContext</b></p>\n",
       "\n",
       "            <p><a href=\"http://192.168.1.220:4040\">Spark UI</a></p>\n",
       "\n",
       "            <dl>\n",
       "              <dt>Version</dt>\n",
       "                <dd><code>v3.5.0</code></dd>\n",
       "              <dt>Master</dt>\n",
       "                <dd><code>local[*]</code></dd>\n",
       "              <dt>AppName</dt>\n",
       "                <dd><code>Testing</code></dd>\n",
       "            </dl>\n",
       "        </div>\n",
       "        \n",
       "            </div>\n",
       "        "
      ],
      "text/plain": [
       "<pyspark.sql.session.SparkSession at 0x1dc7f9821a0>"
      ]
     },
     "execution_count": 5,
     "metadata": {},
     "output_type": "execute_result"
    }
   ],
   "source": [
    "spark"
   ]
  },
  {
   "cell_type": "markdown",
   "metadata": {},
   "source": [
    "### Reading data from a csv file"
   ]
  },
  {
   "cell_type": "code",
   "execution_count": 6,
   "metadata": {},
   "outputs": [],
   "source": [
    "df = spark.read.option('header', 'true').csv('airline-safety.csv', inferSchema = True)\n",
    "# or\n",
    "# df = spark.read.csv('airline-safety.csv', header = True, inferSchema = True)\n",
    "\n",
    "# option('header', 'true')  -  To enable the first row as the column name\n",
    "# inferSchema = True)       -  If false, every data will be taken as string"
   ]
  },
  {
   "cell_type": "code",
   "execution_count": 7,
   "metadata": {},
   "outputs": [
    {
     "data": {
      "text/plain": [
       "pyspark.sql.dataframe.DataFrame"
      ]
     },
     "execution_count": 7,
     "metadata": {},
     "output_type": "execute_result"
    }
   ],
   "source": [
    "type(df)"
   ]
  },
  {
   "cell_type": "code",
   "execution_count": 8,
   "metadata": {},
   "outputs": [
    {
     "name": "stdout",
     "output_type": "stream",
     "text": [
      "+--------------------+----------------------+---------------+---------------------+----------------+---------------+---------------------+----------------+\n",
      "|             airline|avail_seat_km_per_week|incidents_85_99|fatal_accidents_85_99|fatalities_85_99|incidents_00_14|fatal_accidents_00_14|fatalities_00_14|\n",
      "+--------------------+----------------------+---------------+---------------------+----------------+---------------+---------------------+----------------+\n",
      "|          Aer Lingus|             320906734|              2|                    0|               0|              0|                    0|               0|\n",
      "|           Aeroflot*|            1197672318|             76|                   14|             128|              6|                    1|              88|\n",
      "|Aerolineas Argent...|             385803648|              6|                    0|               0|              1|                    0|               0|\n",
      "|         Aeromexico*|             596871813|              3|                    1|              64|              5|                    0|               0|\n",
      "|          Air Canada|            1865253802|              2|                    0|               0|              2|                    0|               0|\n",
      "+--------------------+----------------------+---------------+---------------------+----------------+---------------+---------------------+----------------+\n",
      "only showing top 5 rows\n",
      "\n"
     ]
    }
   ],
   "source": [
    "df.show(5)"
   ]
  },
  {
   "cell_type": "markdown",
   "metadata": {},
   "source": [
    "### Check the Schema of the dataframe"
   ]
  },
  {
   "cell_type": "code",
   "execution_count": 9,
   "metadata": {},
   "outputs": [
    {
     "name": "stdout",
     "output_type": "stream",
     "text": [
      "root\n",
      " |-- airline: string (nullable = true)\n",
      " |-- avail_seat_km_per_week: long (nullable = true)\n",
      " |-- incidents_85_99: integer (nullable = true)\n",
      " |-- fatal_accidents_85_99: integer (nullable = true)\n",
      " |-- fatalities_85_99: integer (nullable = true)\n",
      " |-- incidents_00_14: integer (nullable = true)\n",
      " |-- fatal_accidents_00_14: integer (nullable = true)\n",
      " |-- fatalities_00_14: integer (nullable = true)\n",
      "\n"
     ]
    }
   ],
   "source": [
    "df.printSchema()"
   ]
  },
  {
   "cell_type": "markdown",
   "metadata": {},
   "source": [
    "### Playing with columns and rows"
   ]
  },
  {
   "cell_type": "code",
   "execution_count": 10,
   "metadata": {},
   "outputs": [
    {
     "name": "stdout",
     "output_type": "stream",
     "text": [
      "+--------------------+---------------------+\n",
      "|             airline|fatal_accidents_85_99|\n",
      "+--------------------+---------------------+\n",
      "|          Aer Lingus|                    0|\n",
      "|           Aeroflot*|                   14|\n",
      "|Aerolineas Argent...|                    0|\n",
      "|         Aeromexico*|                    1|\n",
      "|          Air Canada|                    0|\n",
      "+--------------------+---------------------+\n",
      "only showing top 5 rows\n",
      "\n"
     ]
    },
    {
     "data": {
      "text/plain": [
       "pyspark.sql.dataframe.DataFrame"
      ]
     },
     "execution_count": 10,
     "metadata": {},
     "output_type": "execute_result"
    }
   ],
   "source": [
    "# Select or extract specific columns into a separate dataframe\n",
    "\n",
    "df.select(['airline', 'fatal_accidents_85_99']).show(5)\n",
    "\n",
    "type(df.select(['airline', 'fatal_accidents_85_99']))"
   ]
  },
  {
   "cell_type": "code",
   "execution_count": 11,
   "metadata": {},
   "outputs": [
    {
     "data": {
      "text/plain": [
       "Column<'airline'>"
      ]
     },
     "execution_count": 11,
     "metadata": {},
     "output_type": "execute_result"
    }
   ],
   "source": [
    "df['airline']"
   ]
  },
  {
   "cell_type": "code",
   "execution_count": 12,
   "metadata": {},
   "outputs": [
    {
     "data": {
      "text/plain": [
       "[('airline', 'string'),\n",
       " ('avail_seat_km_per_week', 'bigint'),\n",
       " ('incidents_85_99', 'int'),\n",
       " ('fatal_accidents_85_99', 'int'),\n",
       " ('fatalities_85_99', 'int'),\n",
       " ('incidents_00_14', 'int'),\n",
       " ('fatal_accidents_00_14', 'int'),\n",
       " ('fatalities_00_14', 'int')]"
      ]
     },
     "execution_count": 12,
     "metadata": {},
     "output_type": "execute_result"
    }
   ],
   "source": [
    "# Check the datatypes of the columns\n",
    "\n",
    "df.dtypes"
   ]
  },
  {
   "cell_type": "code",
   "execution_count": 13,
   "metadata": {},
   "outputs": [
    {
     "name": "stdout",
     "output_type": "stream",
     "text": [
      "+-------+---------------+----------------------+------------------+---------------------+------------------+------------------+---------------------+------------------+\n",
      "|summary|        airline|avail_seat_km_per_week|   incidents_85_99|fatal_accidents_85_99|  fatalities_85_99|   incidents_00_14|fatal_accidents_00_14|  fatalities_00_14|\n",
      "+-------+---------------+----------------------+------------------+---------------------+------------------+------------------+---------------------+------------------+\n",
      "|  count|             56|                    56|                56|                   56|                56|                56|                   56|                56|\n",
      "|   mean|           NULL|   1.384621304732143E9| 7.178571428571429|   2.1785714285714284|112.41071428571429|             4.125|   0.6607142857142857|55.517857142857146|\n",
      "| stddev|           NULL|  1.4653168949166625E9|11.035656495456639|    2.861068731385928|146.69111354205404|4.5449772476678225|   0.8586836800228957| 111.3327512168207|\n",
      "|    min|     Aer Lingus|             259373346|                 0|                    0|                 0|                 0|                    0|                 0|\n",
      "|    max|Xiamen Airlines|            7139291291|                76|                   14|               535|                24|                    3|               537|\n",
      "+-------+---------------+----------------------+------------------+---------------------+------------------+------------------+---------------------+------------------+\n",
      "\n"
     ]
    }
   ],
   "source": [
    "# Similar to pandas describe\n",
    "\n",
    "df.describe().show()"
   ]
  },
  {
   "cell_type": "code",
   "execution_count": 14,
   "metadata": {},
   "outputs": [],
   "source": [
    "# Drop a column from the DataFrame\n",
    "\n",
    "col = df.select('incidents_85_99')\n",
    "\n",
    "df = df.drop('incidents_85_99')"
   ]
  },
  {
   "cell_type": "code",
   "execution_count": 15,
   "metadata": {},
   "outputs": [
    {
     "name": "stdout",
     "output_type": "stream",
     "text": [
      "+--------------------+----------------------+---------------------+----------------+---------------+---------------------+----------------+\n",
      "|             airline|avail_seat_km_per_week|fatal_accidents_85_99|fatalities_85_99|incidents_00_14|fatal_accidents_00_14|fatalities_00_14|\n",
      "+--------------------+----------------------+---------------------+----------------+---------------+---------------------+----------------+\n",
      "|          Aer Lingus|             320906734|                    0|               0|              0|                    0|               0|\n",
      "|           Aeroflot*|            1197672318|                   14|             128|              6|                    1|              88|\n",
      "|Aerolineas Argent...|             385803648|                    0|               0|              1|                    0|               0|\n",
      "|         Aeromexico*|             596871813|                    1|              64|              5|                    0|               0|\n",
      "|          Air Canada|            1865253802|                    0|               0|              2|                    0|               0|\n",
      "+--------------------+----------------------+---------------------+----------------+---------------+---------------------+----------------+\n",
      "only showing top 5 rows\n",
      "\n"
     ]
    }
   ],
   "source": [
    "df.show(5)"
   ]
  },
  {
   "cell_type": "code",
   "execution_count": 16,
   "metadata": {},
   "outputs": [
    {
     "data": {
      "text/plain": [
       "DataFrame[incidents_85_99: int]"
      ]
     },
     "execution_count": 16,
     "metadata": {},
     "output_type": "execute_result"
    }
   ],
   "source": [
    "col"
   ]
  },
  {
   "cell_type": "code",
   "execution_count": 17,
   "metadata": {},
   "outputs": [
    {
     "ename": "AnalysisException",
     "evalue": "[MISSING_ATTRIBUTES.RESOLVED_ATTRIBUTE_APPEAR_IN_OPERATION] Resolved attribute(s) \"incidents_85_99\" missing from \"airline\", \"avail_seat_km_per_week\", \"fatal_accidents_85_99\", \"fatalities_85_99\", \"incidents_00_14\", \"fatal_accidents_00_14\", \"fatalities_00_14\", \"incidents_85_99\" in operator !Project [airline#17, avail_seat_km_per_week#18L, fatal_accidents_85_99#20, fatalities_85_99#21, incidents_00_14#22, fatal_accidents_00_14#23, fatalities_00_14#24, incidents_85_99#19 AS incidents_85_99#768]. Attribute(s) with the same name appear in the operation: \"incidents_85_99\".\nPlease check if the right attribute(s) are used.;\n!Project [airline#17, avail_seat_km_per_week#18L, fatal_accidents_85_99#20, fatalities_85_99#21, incidents_00_14#22, fatal_accidents_00_14#23, fatalities_00_14#24, incidents_85_99#19 AS incidents_85_99#768]\n+- Project [airline#17, avail_seat_km_per_week#18L, fatal_accidents_85_99#20, fatalities_85_99#21, incidents_00_14#22, fatal_accidents_00_14#23, fatalities_00_14#24, 0 AS incidents_85_99#759]\n   +- Project [airline#17, avail_seat_km_per_week#18L, fatal_accidents_85_99#20, fatalities_85_99#21, incidents_00_14#22, fatal_accidents_00_14#23, fatalities_00_14#24]\n      +- Relation [airline#17,avail_seat_km_per_week#18L,incidents_85_99#19,fatal_accidents_85_99#20,fatalities_85_99#21,incidents_00_14#22,fatal_accidents_00_14#23,fatalities_00_14#24] csv\n",
     "output_type": "error",
     "traceback": [
      "\u001b[1;31m---------------------------------------------------------------------------\u001b[0m",
      "\u001b[1;31mAnalysisException\u001b[0m                         Traceback (most recent call last)",
      "Cell \u001b[1;32mIn [17], line 7\u001b[0m\n\u001b[0;32m      3\u001b[0m df \u001b[38;5;241m=\u001b[39m df\u001b[38;5;241m.\u001b[39mwithColumn(\u001b[38;5;124m\"\u001b[39m\u001b[38;5;124mincidents_85_99\u001b[39m\u001b[38;5;124m\"\u001b[39m, lit(\u001b[38;5;241m0\u001b[39m))\n\u001b[0;32m      5\u001b[0m \u001b[38;5;66;03m# df['incidents_85_99'] = col['incidents_85_99']\u001b[39;00m\n\u001b[1;32m----> 7\u001b[0m df \u001b[38;5;241m=\u001b[39m \u001b[43mdf\u001b[49m\u001b[38;5;241;43m.\u001b[39;49m\u001b[43mwithColumn\u001b[49m\u001b[43m(\u001b[49m\u001b[38;5;124;43m\"\u001b[39;49m\u001b[38;5;124;43mincidents_85_99\u001b[39;49m\u001b[38;5;124;43m\"\u001b[39;49m\u001b[43m,\u001b[49m\u001b[43m \u001b[49m\u001b[43mcol\u001b[49m\u001b[43m[\u001b[49m\u001b[38;5;124;43m'\u001b[39;49m\u001b[38;5;124;43mincidents_85_99\u001b[39;49m\u001b[38;5;124;43m'\u001b[39;49m\u001b[43m]\u001b[49m\u001b[43m)\u001b[49m\n\u001b[0;32m      9\u001b[0m df\u001b[38;5;241m.\u001b[39mshow(\u001b[38;5;241m5\u001b[39m)\n",
      "File \u001b[1;32mc:\\Users\\RaghulKrish\\AppData\\Local\\Programs\\Python\\Python310\\lib\\site-packages\\pyspark\\sql\\dataframe.py:5170\u001b[0m, in \u001b[0;36mDataFrame.withColumn\u001b[1;34m(self, colName, col)\u001b[0m\n\u001b[0;32m   5165\u001b[0m \u001b[38;5;28;01mif\u001b[39;00m \u001b[38;5;129;01mnot\u001b[39;00m \u001b[38;5;28misinstance\u001b[39m(col, Column):\n\u001b[0;32m   5166\u001b[0m     \u001b[38;5;28;01mraise\u001b[39;00m PySparkTypeError(\n\u001b[0;32m   5167\u001b[0m         error_class\u001b[38;5;241m=\u001b[39m\u001b[38;5;124m\"\u001b[39m\u001b[38;5;124mNOT_COLUMN\u001b[39m\u001b[38;5;124m\"\u001b[39m,\n\u001b[0;32m   5168\u001b[0m         message_parameters\u001b[38;5;241m=\u001b[39m{\u001b[38;5;124m\"\u001b[39m\u001b[38;5;124marg_name\u001b[39m\u001b[38;5;124m\"\u001b[39m: \u001b[38;5;124m\"\u001b[39m\u001b[38;5;124mcol\u001b[39m\u001b[38;5;124m\"\u001b[39m, \u001b[38;5;124m\"\u001b[39m\u001b[38;5;124marg_type\u001b[39m\u001b[38;5;124m\"\u001b[39m: \u001b[38;5;28mtype\u001b[39m(col)\u001b[38;5;241m.\u001b[39m\u001b[38;5;18m__name__\u001b[39m},\n\u001b[0;32m   5169\u001b[0m     )\n\u001b[1;32m-> 5170\u001b[0m \u001b[38;5;28;01mreturn\u001b[39;00m DataFrame(\u001b[38;5;28;43mself\u001b[39;49m\u001b[38;5;241;43m.\u001b[39;49m\u001b[43m_jdf\u001b[49m\u001b[38;5;241;43m.\u001b[39;49m\u001b[43mwithColumn\u001b[49m\u001b[43m(\u001b[49m\u001b[43mcolName\u001b[49m\u001b[43m,\u001b[49m\u001b[43m \u001b[49m\u001b[43mcol\u001b[49m\u001b[38;5;241;43m.\u001b[39;49m\u001b[43m_jc\u001b[49m\u001b[43m)\u001b[49m, \u001b[38;5;28mself\u001b[39m\u001b[38;5;241m.\u001b[39msparkSession)\n",
      "File \u001b[1;32mc:\\Users\\RaghulKrish\\AppData\\Local\\Programs\\Python\\Python310\\lib\\site-packages\\py4j\\java_gateway.py:1322\u001b[0m, in \u001b[0;36mJavaMember.__call__\u001b[1;34m(self, *args)\u001b[0m\n\u001b[0;32m   1316\u001b[0m command \u001b[38;5;241m=\u001b[39m proto\u001b[38;5;241m.\u001b[39mCALL_COMMAND_NAME \u001b[38;5;241m+\u001b[39m\\\n\u001b[0;32m   1317\u001b[0m     \u001b[38;5;28mself\u001b[39m\u001b[38;5;241m.\u001b[39mcommand_header \u001b[38;5;241m+\u001b[39m\\\n\u001b[0;32m   1318\u001b[0m     args_command \u001b[38;5;241m+\u001b[39m\\\n\u001b[0;32m   1319\u001b[0m     proto\u001b[38;5;241m.\u001b[39mEND_COMMAND_PART\n\u001b[0;32m   1321\u001b[0m answer \u001b[38;5;241m=\u001b[39m \u001b[38;5;28mself\u001b[39m\u001b[38;5;241m.\u001b[39mgateway_client\u001b[38;5;241m.\u001b[39msend_command(command)\n\u001b[1;32m-> 1322\u001b[0m return_value \u001b[38;5;241m=\u001b[39m \u001b[43mget_return_value\u001b[49m\u001b[43m(\u001b[49m\n\u001b[0;32m   1323\u001b[0m \u001b[43m    \u001b[49m\u001b[43manswer\u001b[49m\u001b[43m,\u001b[49m\u001b[43m \u001b[49m\u001b[38;5;28;43mself\u001b[39;49m\u001b[38;5;241;43m.\u001b[39;49m\u001b[43mgateway_client\u001b[49m\u001b[43m,\u001b[49m\u001b[43m \u001b[49m\u001b[38;5;28;43mself\u001b[39;49m\u001b[38;5;241;43m.\u001b[39;49m\u001b[43mtarget_id\u001b[49m\u001b[43m,\u001b[49m\u001b[43m \u001b[49m\u001b[38;5;28;43mself\u001b[39;49m\u001b[38;5;241;43m.\u001b[39;49m\u001b[43mname\u001b[49m\u001b[43m)\u001b[49m\n\u001b[0;32m   1325\u001b[0m \u001b[38;5;28;01mfor\u001b[39;00m temp_arg \u001b[38;5;129;01min\u001b[39;00m temp_args:\n\u001b[0;32m   1326\u001b[0m     \u001b[38;5;28;01mif\u001b[39;00m \u001b[38;5;28mhasattr\u001b[39m(temp_arg, \u001b[38;5;124m\"\u001b[39m\u001b[38;5;124m_detach\u001b[39m\u001b[38;5;124m\"\u001b[39m):\n",
      "File \u001b[1;32mc:\\Users\\RaghulKrish\\AppData\\Local\\Programs\\Python\\Python310\\lib\\site-packages\\pyspark\\errors\\exceptions\\captured.py:185\u001b[0m, in \u001b[0;36mcapture_sql_exception.<locals>.deco\u001b[1;34m(*a, **kw)\u001b[0m\n\u001b[0;32m    181\u001b[0m converted \u001b[38;5;241m=\u001b[39m convert_exception(e\u001b[38;5;241m.\u001b[39mjava_exception)\n\u001b[0;32m    182\u001b[0m \u001b[38;5;28;01mif\u001b[39;00m \u001b[38;5;129;01mnot\u001b[39;00m \u001b[38;5;28misinstance\u001b[39m(converted, UnknownException):\n\u001b[0;32m    183\u001b[0m     \u001b[38;5;66;03m# Hide where the exception came from that shows a non-Pythonic\u001b[39;00m\n\u001b[0;32m    184\u001b[0m     \u001b[38;5;66;03m# JVM exception message.\u001b[39;00m\n\u001b[1;32m--> 185\u001b[0m     \u001b[38;5;28;01mraise\u001b[39;00m converted \u001b[38;5;28;01mfrom\u001b[39;00m \u001b[38;5;28mNone\u001b[39m\n\u001b[0;32m    186\u001b[0m \u001b[38;5;28;01melse\u001b[39;00m:\n\u001b[0;32m    187\u001b[0m     \u001b[38;5;28;01mraise\u001b[39;00m\n",
      "\u001b[1;31mAnalysisException\u001b[0m: [MISSING_ATTRIBUTES.RESOLVED_ATTRIBUTE_APPEAR_IN_OPERATION] Resolved attribute(s) \"incidents_85_99\" missing from \"airline\", \"avail_seat_km_per_week\", \"fatal_accidents_85_99\", \"fatalities_85_99\", \"incidents_00_14\", \"fatal_accidents_00_14\", \"fatalities_00_14\", \"incidents_85_99\" in operator !Project [airline#17, avail_seat_km_per_week#18L, fatal_accidents_85_99#20, fatalities_85_99#21, incidents_00_14#22, fatal_accidents_00_14#23, fatalities_00_14#24, incidents_85_99#19 AS incidents_85_99#768]. Attribute(s) with the same name appear in the operation: \"incidents_85_99\".\nPlease check if the right attribute(s) are used.;\n!Project [airline#17, avail_seat_km_per_week#18L, fatal_accidents_85_99#20, fatalities_85_99#21, incidents_00_14#22, fatal_accidents_00_14#23, fatalities_00_14#24, incidents_85_99#19 AS incidents_85_99#768]\n+- Project [airline#17, avail_seat_km_per_week#18L, fatal_accidents_85_99#20, fatalities_85_99#21, incidents_00_14#22, fatal_accidents_00_14#23, fatalities_00_14#24, 0 AS incidents_85_99#759]\n   +- Project [airline#17, avail_seat_km_per_week#18L, fatal_accidents_85_99#20, fatalities_85_99#21, incidents_00_14#22, fatal_accidents_00_14#23, fatalities_00_14#24]\n      +- Relation [airline#17,avail_seat_km_per_week#18L,incidents_85_99#19,fatal_accidents_85_99#20,fatalities_85_99#21,incidents_00_14#22,fatal_accidents_00_14#23,fatalities_00_14#24] csv\n"
     ]
    }
   ],
   "source": [
    "# Add a column to the DataFrame\n",
    "\n",
    "df = df.withColumn(\"incidents_85_99\", lit(0))\n",
    "\n",
    "# df['incidents_85_99'] = col['incidents_85_99']\n",
    "\n",
    "df = df.withColumn(\"incidents_85_99\", col['incidents_85_99'])\n",
    "\n",
    "df.show(5)"
   ]
  },
  {
   "cell_type": "code",
   "execution_count": 18,
   "metadata": {},
   "outputs": [
    {
     "name": "stdout",
     "output_type": "stream",
     "text": [
      "+--------------------+----------------------+---------------------+----------------+---------------+---------------------+----------------+---------------+\n",
      "|        Airline_Name|avail_seat_km_per_week|fatal_accidents_85_99|fatalities_85_99|incidents_00_14|fatal_accidents_00_14|fatalities_00_14|incidents_85_99|\n",
      "+--------------------+----------------------+---------------------+----------------+---------------+---------------------+----------------+---------------+\n",
      "|          Aer Lingus|             320906734|                    0|               0|              0|                    0|               0|              0|\n",
      "|           Aeroflot*|            1197672318|                   14|             128|              6|                    1|              88|              0|\n",
      "|Aerolineas Argent...|             385803648|                    0|               0|              1|                    0|               0|              0|\n",
      "|         Aeromexico*|             596871813|                    1|              64|              5|                    0|               0|              0|\n",
      "|          Air Canada|            1865253802|                    0|               0|              2|                    0|               0|              0|\n",
      "+--------------------+----------------------+---------------------+----------------+---------------+---------------------+----------------+---------------+\n",
      "only showing top 5 rows\n",
      "\n"
     ]
    }
   ],
   "source": [
    "# Renaming the column name\n",
    "df = df.withColumnRenamed('airline', 'Airline_Name')\n",
    "\n",
    "df.show(5)"
   ]
  },
  {
   "cell_type": "markdown",
   "metadata": {},
   "source": [
    "### Data Preprocessing"
   ]
  },
  {
   "cell_type": "markdown",
   "metadata": {},
   "source": [
    "#### Handling missing values"
   ]
  },
  {
   "cell_type": "markdown",
   "metadata": {},
   "source": [
    "##### Drop rows that have nulls"
   ]
  },
  {
   "cell_type": "code",
   "execution_count": 19,
   "metadata": {},
   "outputs": [
    {
     "data": {
      "text/plain": [
       "(56, 8)"
      ]
     },
     "execution_count": 19,
     "metadata": {},
     "output_type": "execute_result"
    }
   ],
   "source": [
    "# Find the shape of the pySpark DataFrame\n",
    "df.count(), len(df.columns)"
   ]
  },
  {
   "cell_type": "code",
   "execution_count": 20,
   "metadata": {},
   "outputs": [
    {
     "data": {
      "text/plain": [
       "56"
      ]
     },
     "execution_count": 20,
     "metadata": {},
     "output_type": "execute_result"
    }
   ],
   "source": [
    "df.na.drop(how=\"any\", thresh=2).count()\n",
    "\n",
    "# how --> 'any' - drop all rows that have a null value\n",
    "# how --> 'all' - drop all rows that have all the values in the row as null\n",
    "# thresh --> n - drop the row if it has less than n number of non-null values"
   ]
  },
  {
   "cell_type": "code",
   "execution_count": 21,
   "metadata": {},
   "outputs": [
    {
     "data": {
      "text/plain": [
       "56"
      ]
     },
     "execution_count": 21,
     "metadata": {},
     "output_type": "execute_result"
    }
   ],
   "source": [
    "df.na.drop(how=\"any\", subset=['avail_seat_km_per_week', 'fatal_accidents_85_99']).count()\n",
    "\n",
    "# subset --> drop all rows that have null value in the specified columns"
   ]
  },
  {
   "cell_type": "markdown",
   "metadata": {},
   "source": [
    "##### Filling the missing values"
   ]
  },
  {
   "cell_type": "code",
   "execution_count": 22,
   "metadata": {},
   "outputs": [
    {
     "name": "stdout",
     "output_type": "stream",
     "text": [
      "+--------------------+----------------------+---------------------+----------------+---------------+---------------------+----------------+---------------+\n",
      "|        Airline_Name|avail_seat_km_per_week|fatal_accidents_85_99|fatalities_85_99|incidents_00_14|fatal_accidents_00_14|fatalities_00_14|incidents_85_99|\n",
      "+--------------------+----------------------+---------------------+----------------+---------------+---------------------+----------------+---------------+\n",
      "|          Aer Lingus|             320906734|                    0|               0|              0|                    0|               0|              0|\n",
      "|           Aeroflot*|            1197672318|                   14|             128|              6|                    1|              88|              0|\n",
      "|Aerolineas Argent...|             385803648|                    0|               0|              1|                    0|               0|              0|\n",
      "|         Aeromexico*|             596871813|                    1|              64|              5|                    0|               0|              0|\n",
      "|          Air Canada|            1865253802|                    0|               0|              2|                    0|               0|              0|\n",
      "+--------------------+----------------------+---------------------+----------------+---------------+---------------------+----------------+---------------+\n",
      "only showing top 5 rows\n",
      "\n"
     ]
    }
   ],
   "source": [
    "# Replace null values with a specified value\n",
    "\n",
    "df.na.fill(0, ['fatal_accidents_85_99', 'Airline_Name']).show(5)\n",
    "#       value to replace null,            columns to replace in"
   ]
  },
  {
   "cell_type": "code",
   "execution_count": 23,
   "metadata": {},
   "outputs": [],
   "source": [
    "# Replacing the null values with the mean or median of a particular column using Imputer\n",
    "\n",
    "# from pyspark.ml.feature import Imputer\n",
    "\n",
    "# imputer = Imputer(\n",
    "#     inputCols=['fatal_accidents_85_99', 'Airline_Name'],\n",
    "#     outputCols=\n",
    "# )\n",
    "\n",
    "\n",
    "# Do it later"
   ]
  },
  {
   "cell_type": "markdown",
   "metadata": {},
   "source": [
    "#### Filter Operations"
   ]
  },
  {
   "cell_type": "code",
   "execution_count": 34,
   "metadata": {},
   "outputs": [
    {
     "name": "stdout",
     "output_type": "stream",
     "text": [
      "+--------------------+----------------------+---------------------+----------------+---------------+---------------------+----------------+---------------+\n",
      "|        Airline_Name|avail_seat_km_per_week|fatal_accidents_85_99|fatalities_85_99|incidents_00_14|fatal_accidents_00_14|fatalities_00_14|incidents_85_99|\n",
      "+--------------------+----------------------+---------------------+----------------+---------------+---------------------+----------------+---------------+\n",
      "|          Aer Lingus|             320906734|                    0|               0|              0|                    0|               0|              0|\n",
      "|Aerolineas Argent...|             385803648|                    0|               0|              1|                    0|               0|              0|\n",
      "|   Austrian Airlines|             358239823|                    0|               0|              1|                    0|               0|              0|\n",
      "|             Avianca|             396922563|                    3|             323|              0|                    0|               0|              0|\n",
      "|              Condor|             417982610|                    1|              16|              0|                    0|               0|              0|\n",
      "|                COPA|             550491507|                    1|              47|              0|                    0|               0|              0|\n",
      "|               El Al|             335448023|                    1|               4|              1|                    0|               0|              0|\n",
      "|             Finnair|             506464950|                    0|               0|              0|                    0|               0|              0|\n",
      "|   Hawaiian Airlines|             493877795|                    0|               0|              1|                    0|               0|              0|\n",
      "|      Japan Airlines|            1574217531|                    1|             520|              0|                    0|               0|              0|\n",
      "|                KLM*|            1874561773|                    1|               3|              1|                    0|               0|              0|\n",
      "|          Korean Air|            1734522605|                    5|             425|              1|                    0|               0|              0|\n",
      "|        LAN Airlines|            1001965891|                    2|              21|              0|                    0|               0|              0|\n",
      "|       South African|             651502442|                    1|             159|              1|                    0|               0|              0|\n",
      "|                TACA|             259373346|                    1|               3|              1|                    1|               3|              0|\n",
      "|  TAP - Air Portugal|             619130754|                    0|               0|              0|                    0|               0|              0|\n",
      "|    Vietnam Airlines|             625084918|                    3|             171|              1|                    0|               0|              0|\n",
      "|     Virgin Atlantic|            1005248585|                    0|               0|              0|                    0|               0|              0|\n",
      "+--------------------+----------------------+---------------------+----------------+---------------+---------------------+----------------+---------------+\n",
      "\n",
      "+--------------------+----------------------+---------------------+----------------+---------------+---------------------+----------------+---------------+\n",
      "|        Airline_Name|avail_seat_km_per_week|fatal_accidents_85_99|fatalities_85_99|incidents_00_14|fatal_accidents_00_14|fatalities_00_14|incidents_85_99|\n",
      "+--------------------+----------------------+---------------------+----------------+---------------+---------------------+----------------+---------------+\n",
      "|          Aer Lingus|             320906734|                    0|               0|              0|                    0|               0|              0|\n",
      "|Aerolineas Argent...|             385803648|                    0|               0|              1|                    0|               0|              0|\n",
      "|   Austrian Airlines|             358239823|                    0|               0|              1|                    0|               0|              0|\n",
      "|             Avianca|             396922563|                    3|             323|              0|                    0|               0|              0|\n",
      "|              Condor|             417982610|                    1|              16|              0|                    0|               0|              0|\n",
      "|                COPA|             550491507|                    1|              47|              0|                    0|               0|              0|\n",
      "|               El Al|             335448023|                    1|               4|              1|                    0|               0|              0|\n",
      "|             Finnair|             506464950|                    0|               0|              0|                    0|               0|              0|\n",
      "|   Hawaiian Airlines|             493877795|                    0|               0|              1|                    0|               0|              0|\n",
      "|      Japan Airlines|            1574217531|                    1|             520|              0|                    0|               0|              0|\n",
      "|                KLM*|            1874561773|                    1|               3|              1|                    0|               0|              0|\n",
      "|          Korean Air|            1734522605|                    5|             425|              1|                    0|               0|              0|\n",
      "|        LAN Airlines|            1001965891|                    2|              21|              0|                    0|               0|              0|\n",
      "|       South African|             651502442|                    1|             159|              1|                    0|               0|              0|\n",
      "|                TACA|             259373346|                    1|               3|              1|                    1|               3|              0|\n",
      "|  TAP - Air Portugal|             619130754|                    0|               0|              0|                    0|               0|              0|\n",
      "|    Vietnam Airlines|             625084918|                    3|             171|              1|                    0|               0|              0|\n",
      "|     Virgin Atlantic|            1005248585|                    0|               0|              0|                    0|               0|              0|\n",
      "+--------------------+----------------------+---------------------+----------------+---------------+---------------------+----------------+---------------+\n",
      "\n"
     ]
    }
   ],
   "source": [
    "# Airlines with less than 1 incidents between 2000 and 2014\n",
    "\n",
    "df.filter(\"incidents_00_14 <= 1\").show()\n",
    "# Or\n",
    "df.filter(df['incidents_00_14'] <= 1).show()\n",
    "\n",
    "# This displays all the comlumns of the filtered rows"
   ]
  },
  {
   "cell_type": "code",
   "execution_count": 28,
   "metadata": {},
   "outputs": [
    {
     "name": "stdout",
     "output_type": "stream",
     "text": [
      "+--------------------+----------------------+\n",
      "|        Airline_Name|avail_seat_km_per_week|\n",
      "+--------------------+----------------------+\n",
      "|          Aer Lingus|             320906734|\n",
      "|Aerolineas Argent...|             385803648|\n",
      "|   Austrian Airlines|             358239823|\n",
      "|             Avianca|             396922563|\n",
      "|              Condor|             417982610|\n",
      "|                COPA|             550491507|\n",
      "|               El Al|             335448023|\n",
      "|             Finnair|             506464950|\n",
      "|   Hawaiian Airlines|             493877795|\n",
      "|      Japan Airlines|            1574217531|\n",
      "|                KLM*|            1874561773|\n",
      "|          Korean Air|            1734522605|\n",
      "|        LAN Airlines|            1001965891|\n",
      "|       South African|             651502442|\n",
      "|                TACA|             259373346|\n",
      "|  TAP - Air Portugal|             619130754|\n",
      "|    Vietnam Airlines|             625084918|\n",
      "|     Virgin Atlantic|            1005248585|\n",
      "+--------------------+----------------------+\n",
      "\n"
     ]
    }
   ],
   "source": [
    "# Filter operation with Select\n",
    "# Display only the airline name and the other selected columns\n",
    "df.filter(\"incidents_00_14 <= 1\").select(['Airline_Name', 'avail_seat_km_per_week']).show()"
   ]
  },
  {
   "cell_type": "code",
   "execution_count": 45,
   "metadata": {},
   "outputs": [
    {
     "name": "stdout",
     "output_type": "stream",
     "text": [
      "+-------------------+----------------------+----------------+\n",
      "|       Airline_Name|avail_seat_km_per_week|fatalities_00_14|\n",
      "+-------------------+----------------------+----------------+\n",
      "|Philippine Airlines|             413007158|               1|\n",
      "|       Thai Airways|            1702802250|               1|\n",
      "+-------------------+----------------------+----------------+\n",
      "\n"
     ]
    }
   ],
   "source": [
    "# Multiple filter conditions\n",
    "\n",
    "# Airlines with less than 2 incidents between 2000 and 2014 and with 1 fatality\n",
    "\n",
    "df.filter((df['incidents_00_14'] <= 2) & (df['fatalities_00_14'] == 1)\n",
    "          ).select(['Airline_Name', 'avail_seat_km_per_week', 'fatalities_00_14']).show()"
   ]
  },
  {
   "cell_type": "code",
   "execution_count": 47,
   "metadata": {},
   "outputs": [
    {
     "name": "stdout",
     "output_type": "stream",
     "text": [
      "+--------------------+----------------------+----------------+\n",
      "|        Airline_Name|avail_seat_km_per_week|fatalities_00_14|\n",
      "+--------------------+----------------------+----------------+\n",
      "|         Aeromexico*|             596871813|               0|\n",
      "|            Alitalia|             698012498|               0|\n",
      "|  All Nippon Airways|            1841234177|               0|\n",
      "|    British Airways*|            3179760952|               0|\n",
      "|              Iberia|            1173203126|               0|\n",
      "|          Lufthansa*|            3426529504|               0|\n",
      "|             Qantas*|            1917428984|               0|\n",
      "|     Royal Air Maroc|             295705339|               0|\n",
      "|       Saudi Arabian|             859673901|               0|\n",
      "|  Southwest Airlines|            3276525770|               0|\n",
      "|Sri Lankan / AirL...|             325582976|               0|\n",
      "|              SWISS*|             792601299|               0|\n",
      "+--------------------+----------------------+----------------+\n",
      "\n"
     ]
    }
   ],
   "source": [
    "# Inverse condition\n",
    "\n",
    "df.filter(~(df['incidents_00_14'] <= 2) & (df['fatalities_00_14'] <= 1)\n",
    "          ).select(['Airline_Name', 'avail_seat_km_per_week', 'fatalities_00_14']).show()"
   ]
  },
  {
   "cell_type": "markdown",
   "metadata": {},
   "source": [
    "#### GroupBy and Aggregate Function"
   ]
  },
  {
   "cell_type": "markdown",
   "metadata": {},
   "source": [
    "##### GroupBy Operation"
   ]
  },
  {
   "cell_type": "code",
   "execution_count": 51,
   "metadata": {},
   "outputs": [
    {
     "name": "stdout",
     "output_type": "stream",
     "text": [
      "+--------------------+-----+\n",
      "|        Airline_Name|count|\n",
      "+--------------------+-----+\n",
      "|  Ethiopian Airlines|    1|\n",
      "|               El Al|    1|\n",
      "|            Alitalia|    1|\n",
      "| Philippine Airlines|    1|\n",
      "|           American*|    1|\n",
      "|    Turkish Airlines|    1|\n",
      "|United / Continen...|    1|\n",
      "|          Air France|    1|\n",
      "|          Lufthansa*|    1|\n",
      "|      Japan Airlines|    1|\n",
      "|    British Airways*|    1|\n",
      "|       South African|    1|\n",
      "|         Aeromexico*|    1|\n",
      "|        Thai Airways|    1|\n",
      "|             Qantas*|    1|\n",
      "|              Iberia|    1|\n",
      "|US Airways / Amer...|    1|\n",
      "|              Condor|    1|\n",
      "|   Hawaiian Airlines|    1|\n",
      "|     Virgin Atlantic|    1|\n",
      "+--------------------+-----+\n",
      "only showing top 20 rows\n",
      "\n"
     ]
    }
   ],
   "source": [
    "df.groupBy('Airline_Name').count().show()\n",
    "\n",
    "# Other operations: .sum, .mean"
   ]
  },
  {
   "cell_type": "code",
   "execution_count": 54,
   "metadata": {},
   "outputs": [
    {
     "name": "stdout",
     "output_type": "stream",
     "text": [
      "+--------------------+---------------------------+--------------------------+---------------------+--------------------+--------------------------+---------------------+--------------------+\n",
      "|        Airline_Name|max(avail_seat_km_per_week)|max(fatal_accidents_85_99)|max(fatalities_85_99)|max(incidents_00_14)|max(fatal_accidents_00_14)|max(fatalities_00_14)|max(incidents_85_99)|\n",
      "+--------------------+---------------------------+--------------------------+---------------------+--------------------+--------------------------+---------------------+--------------------+\n",
      "|  Ethiopian Airlines|                  488560643|                         5|                  167|                   5|                         2|                   92|                   0|\n",
      "|               El Al|                  335448023|                         1|                    4|                   1|                         0|                    0|                   0|\n",
      "|            Alitalia|                  698012498|                         2|                   50|                   4|                         0|                    0|                   0|\n",
      "| Philippine Airlines|                  413007158|                         4|                   74|                   2|                         1|                    1|                   0|\n",
      "|           American*|                 5228357340|                         5|                  101|                  17|                         3|                  416|                   0|\n",
      "|    Turkish Airlines|                 1946098294|                         3|                   64|                   8|                         2|                   84|                   0|\n",
      "|United / Continen...|                 7139291291|                         8|                  319|                  14|                         2|                  109|                   0|\n",
      "|          Air France|                 3004002661|                         4|                   79|                   6|                         2|                  337|                   0|\n",
      "|          Lufthansa*|                 3426529504|                         1|                    2|                   3|                         0|                    0|                   0|\n",
      "|      Japan Airlines|                 1574217531|                         1|                  520|                   0|                         0|                    0|                   0|\n",
      "|    British Airways*|                 3179760952|                         0|                    0|                   6|                         0|                    0|                   0|\n",
      "|       South African|                  651502442|                         1|                  159|                   1|                         0|                    0|                   0|\n",
      "|         Aeromexico*|                  596871813|                         1|                   64|                   5|                         0|                    0|                   0|\n",
      "|        Thai Airways|                 1702802250|                         4|                  308|                   2|                         1|                    1|                   0|\n",
      "|             Qantas*|                 1917428984|                         0|                    0|                   5|                         0|                    0|                   0|\n",
      "|              Iberia|                 1173203126|                         1|                  148|                   5|                         0|                    0|                   0|\n",
      "|US Airways / Amer...|                 2455687887|                         7|                  224|                  11|                         2|                   23|                   0|\n",
      "|              Condor|                  417982610|                         1|                   16|                   0|                         0|                    0|                   0|\n",
      "|   Hawaiian Airlines|                  493877795|                         0|                    0|                   1|                         0|                    0|                   0|\n",
      "|     Virgin Atlantic|                 1005248585|                         0|                    0|                   0|                         0|                    0|                   0|\n",
      "+--------------------+---------------------------+--------------------------+---------------------+--------------------+--------------------------+---------------------+--------------------+\n",
      "only showing top 20 rows\n",
      "\n"
     ]
    }
   ],
   "source": [
    "df.groupBy('Airline_Name').max().show()\n",
    "\n",
    "# Displays the maximum of each Airline_Name for each column across different rows"
   ]
  },
  {
   "cell_type": "markdown",
   "metadata": {},
   "source": [
    "##### Aggregate Operation"
   ]
  },
  {
   "cell_type": "code",
   "execution_count": 52,
   "metadata": {},
   "outputs": [
    {
     "name": "stdout",
     "output_type": "stream",
     "text": [
      "+--------------------+\n",
      "|sum(incidents_00_14)|\n",
      "+--------------------+\n",
      "|                 231|\n",
      "+--------------------+\n",
      "\n"
     ]
    }
   ],
   "source": [
    "# Total incidents between 2000 and 2014\n",
    "df.agg({'incidents_00_14' : 'sum'}).show()"
   ]
  },
  {
   "cell_type": "code",
   "execution_count": 55,
   "metadata": {},
   "outputs": [
    {
     "name": "stdout",
     "output_type": "stream",
     "text": [
      "+---------------------+\n",
      "|sum(fatalities_00_14)|\n",
      "+---------------------+\n",
      "|                 3109|\n",
      "+---------------------+\n",
      "\n"
     ]
    }
   ],
   "source": [
    "# Total Fatalities between 2000 and 2014\n",
    "df.agg({'fatalities_00_14' : 'sum'}).show()"
   ]
  }
 ],
 "metadata": {
  "kernelspec": {
   "display_name": "Python 3",
   "language": "python",
   "name": "python3"
  },
  "language_info": {
   "codemirror_mode": {
    "name": "ipython",
    "version": 3
   },
   "file_extension": ".py",
   "mimetype": "text/x-python",
   "name": "python",
   "nbconvert_exporter": "python",
   "pygments_lexer": "ipython3",
   "version": "3.10.6"
  }
 },
 "nbformat": 4,
 "nbformat_minor": 2
}
